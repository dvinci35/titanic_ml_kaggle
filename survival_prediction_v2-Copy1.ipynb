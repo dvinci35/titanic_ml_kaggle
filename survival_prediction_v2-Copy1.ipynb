{
 "cells": [
  {
   "cell_type": "code",
   "execution_count": 160,
   "id": "b841393e-1d53-4e2c-aaed-39f0bbc1452e",
   "metadata": {},
   "outputs": [],
   "source": [
    "import numpy as np\n",
    "import pandas as pd\n",
    "import matplotlib.pyplot as plt\n",
    "\n",
    "pd.set_option('max_columns', None)"
   ]
  },
  {
   "cell_type": "code",
   "execution_count": 161,
   "id": "1082954a-613e-4d68-bb4d-e2f4db1e30ae",
   "metadata": {},
   "outputs": [],
   "source": [
    "data_raw = pd.read_csv('train.csv')\n",
    "data_for_test = pd.read_csv('test.csv')"
   ]
  },
  {
   "cell_type": "code",
   "execution_count": 162,
   "id": "9b62f5c0-ade7-4bbf-a22b-bb3229820b52",
   "metadata": {},
   "outputs": [
    {
     "data": {
      "text/plain": [
       "Index(['PassengerId', 'Survived', 'Pclass', 'Name', 'Sex', 'Age', 'SibSp',\n",
       "       'Parch', 'Ticket', 'Fare', 'Cabin', 'Embarked'],\n",
       "      dtype='object')"
      ]
     },
     "execution_count": 162,
     "metadata": {},
     "output_type": "execute_result"
    }
   ],
   "source": [
    "data_raw.columns"
   ]
  },
  {
   "cell_type": "code",
   "execution_count": 163,
   "id": "738c5087-6ea7-4a6e-a940-802b1e1eedcb",
   "metadata": {},
   "outputs": [],
   "source": [
    "numerical_attr = ['Age','SibSp','Parch','Fare',]\n",
    "categorical_attr = ['Pclass','Sex','Embarked',]\n",
    "drop_attr = ['PassengerId','Ticket','Cabin']\n",
    "text_attr = ['Name']\n",
    "\n",
    "labels = data_raw['Survived']"
   ]
  },
  {
   "cell_type": "code",
   "execution_count": 164,
   "id": "9e6e2fe3-278d-4f6e-a2af-1a17bc09215f",
   "metadata": {},
   "outputs": [],
   "source": [
    "X = data_raw.drop('Survived', axis=1)"
   ]
  },
  {
   "cell_type": "code",
   "execution_count": 165,
   "id": "b78c16e1-a16c-459e-89f5-f1012976c251",
   "metadata": {},
   "outputs": [
    {
     "data": {
      "text/plain": [
       "Index(['PassengerId', 'Pclass', 'Name', 'Sex', 'Age', 'SibSp', 'Parch',\n",
       "       'Ticket', 'Fare', 'Cabin', 'Embarked'],\n",
       "      dtype='object')"
      ]
     },
     "execution_count": 165,
     "metadata": {},
     "output_type": "execute_result"
    }
   ],
   "source": [
    "X.columns"
   ]
  },
  {
   "cell_type": "code",
   "execution_count": 166,
   "id": "74332d71-274f-42bd-9747-9104b949f8e7",
   "metadata": {},
   "outputs": [],
   "source": [
    "# def add_att(f,g):\n",
    "#     if (type(f)!= np.number) or (type(g) != np.number):\n",
    "#         raise TypeError('f or g is not float type')\n",
    "#     e = np.add(f,g)\n",
    "#     if (type(e)!= np.number):\n",
    "#         raise TypeError('f or g is not float type')\n",
    "#     e = np.add(e, np.ones(891))\n",
    "#     return e\n",
    "    \n",
    "# # vfunc = np.vectorize(add_att)\n",
    "# f = X.iloc[:,6]\n",
    "# g = X.iloc[:,5]\n",
    "\n",
    "# f.dtype\n",
    "# # family_mems = add_att(f,g)\n",
    "# # len(f)\n",
    "# # family_mems"
   ]
  },
  {
   "cell_type": "code",
   "execution_count": 167,
   "id": "af59c680-c982-4123-a2da-6b16a6da2281",
   "metadata": {},
   "outputs": [],
   "source": [
    "# f = X.iloc[:,6]\n",
    "# f"
   ]
  },
  {
   "cell_type": "code",
   "execution_count": 168,
   "id": "e7b2fb2c-84f9-4ccd-afb0-7454d959dae7",
   "metadata": {},
   "outputs": [
    {
     "data": {
      "text/plain": [
       "Index(['PassengerId', 'Pclass', 'Name', 'Sex', 'Age', 'SibSp', 'Parch',\n",
       "       'Ticket', 'Fare', 'Cabin', 'Embarked'],\n",
       "      dtype='object')"
      ]
     },
     "execution_count": 168,
     "metadata": {},
     "output_type": "execute_result"
    }
   ],
   "source": [
    "X.columns"
   ]
  },
  {
   "cell_type": "code",
   "execution_count": 336,
   "id": "4210db0d-2397-4b61-8dd3-0e64879e0361",
   "metadata": {
    "tags": []
   },
   "outputs": [
    {
     "data": {
      "text/plain": [
       "FunctionTransformer(func=<function add_extra_features at 0x7f30c15fb130>)"
      ]
     },
     "execution_count": 336,
     "metadata": {},
     "output_type": "execute_result"
    }
   ],
   "source": [
    "from sklearn.preprocessing import FunctionTransformer\n",
    "\n",
    "def add_extra_features(X):\n",
    "    \n",
    "    print(X.columns)\n",
    "    \n",
    "    family_mems = X.iloc[:, 1] + X.iloc[:, 2] + 1\n",
    "    \n",
    "    print(\"Done family_mems\")\n",
    "    \n",
    "    def decide_marital_status(g):\n",
    "        if g == 1:\n",
    "            return 'Single'\n",
    "        elif g == 2:\n",
    "            return 'Couple'\n",
    "        elif g>2:\n",
    "            return 'Family'\n",
    "    # vfunc = np.vectorize(decide_marital_status)\n",
    "    # marital_status = vfunc(decide_marital_status)\n",
    "    \n",
    "    marital_status = np.array([decide_marital_status(i) for i in family_mems])\n",
    "    \n",
    "    print(\"Done marital_status\")\n",
    "    \n",
    "    def decide_age_group(a):\n",
    "        a = int(a)\n",
    "        if a<=5:\n",
    "            return 'Infant'\n",
    "        elif 5<a<=13:\n",
    "            return 'Child'\n",
    "        elif 13<a<26:\n",
    "            return 'Youth'\n",
    "        else:\n",
    "            return 'Adult'\n",
    "    if X.iloc[:,0].isna().sum():\n",
    "        raise ValueError(\"There are Nan values in 'age'\")\n",
    "    age_group = np.array([decide_age_group(i) for i in X.iloc[:,0]])\n",
    "    \n",
    "    print(\"Done age_group\")\n",
    "    \n",
    "    marital_status = marital_status.reshape(891,1)\n",
    "    age_group = age_group.reshape(891,1)\n",
    "    family_mems = np.array(family_mems).reshape(891,1)\n",
    "    \n",
    "    print(\"Shape of X \", X.shape)\n",
    "    print(\"Shape of family_mems \", family_mems.shape)\n",
    "    print(\"Shape of marital-status \", marital_status.shape)\n",
    "    print(\"Shape of age_group \", age_group.shape)\n",
    "    \n",
    "    xyz = np.concatenate((X, family_mems, marital_status, age_group),axis=1)\n",
    "    return xyz\n",
    "\n",
    "attr_adder = FunctionTransformer(add_extra_features, validate=False,)\n",
    "attr_adder.fit(X)\n"
   ]
  },
  {
   "cell_type": "code",
   "execution_count": 307,
   "id": "2e6a5d7a-39c1-4df0-aed2-ac5f89edb95a",
   "metadata": {},
   "outputs": [
    {
     "data": {
      "text/plain": [
       "24.00    30\n",
       "22.00    27\n",
       "18.00    26\n",
       "19.00    25\n",
       "28.00    25\n",
       "         ..\n",
       "36.50     1\n",
       "55.50     1\n",
       "0.92      1\n",
       "23.50     1\n",
       "74.00     1\n",
       "Name: Age, Length: 88, dtype: int64"
      ]
     },
     "execution_count": 307,
     "metadata": {},
     "output_type": "execute_result"
    }
   ],
   "source": [
    "X['Age'].value_counts()"
   ]
  },
  {
   "cell_type": "code",
   "execution_count": 337,
   "id": "139d3c0d-ff6e-497b-beb7-f15bf93fb9c9",
   "metadata": {},
   "outputs": [
    {
     "name": "stdout",
     "output_type": "stream",
     "text": [
      "(891, 11)\n",
      "(891, 12)\n"
     ]
    }
   ],
   "source": [
    "from sklearn.pipeline import Pipeline\n",
    "from sklearn.feature_extraction.text import CountVectorizer, TfidfTransformer\n",
    "from sklearn.compose import ColumnTransformer\n",
    "from sklearn.preprocessing import OneHotEncoder, StandardScaler\n",
    "from sklearn.impute import SimpleImputer\n",
    "\n",
    "pl_text = Pipeline([\n",
    "    ('vect', CountVectorizer()),\n",
    "    ('tfidf', TfidfTransformer()),\n",
    "])\n",
    "all_cols = numerical_attr + categorical_attr + text_attr\n",
    "imputer = SimpleImputer(strategy='most_frequent')\n",
    "print(X.shape)\n",
    "print(data_raw.shape)\n",
    "X_im = imputer.fit_transform(X)\n",
    "X_im.shape\n",
    "\n",
    "X_im = pd.DataFrame(X_im, columns = ['PassengerId', 'Pclass', 'Name', 'Sex', 'Age', 'SibSp', 'Parch', 'Ticket', 'Fare', 'Cabin', 'Embarked'], index =X.index)\n",
    "\n",
    "\n",
    "ct = ColumnTransformer([\n",
    "    ('attr_adder', attr_adder, all_cols),\n",
    "    ('text_tr', pl_text, text_attr),\n",
    "    ('onehot', OneHotEncoder(sparse=False), categorical_attr),\n",
    "    ('scaling', StandardScaler(), numerical_attr),\n",
    "])"
   ]
  },
  {
   "cell_type": "code",
   "execution_count": 335,
   "id": "62da6d4d-404c-4738-8b29-93618581f860",
   "metadata": {
    "tags": []
   },
   "outputs": [
    {
     "name": "stdout",
     "output_type": "stream",
     "text": [
      "(891, 1)\n"
     ]
    },
    {
     "data": {
      "text/plain": [
       "numpy.ndarray"
      ]
     },
     "execution_count": 335,
     "metadata": {},
     "output_type": "execute_result"
    }
   ],
   "source": [
    "age = X.Age.copy()\n",
    "\n",
    "age = np.array(age).reshape(891,1)\n",
    "\n",
    "print(age.shape)\n",
    "type(age)"
   ]
  },
  {
   "cell_type": "code",
   "execution_count": 338,
   "id": "bfac61e8-f4c3-43f8-ace9-4da9393d5ad1",
   "metadata": {
    "tags": []
   },
   "outputs": [
    {
     "name": "stdout",
     "output_type": "stream",
     "text": [
      "Index(['Age', 'SibSp', 'Parch', 'Fare', 'Pclass', 'Sex', 'Embarked', 'Name'], dtype='object')\n",
      "Done family_mems\n",
      "Done marital_status\n",
      "Done age_group\n",
      "Shape of X  (891, 8)\n",
      "Shape of family_mems  (891, 1)\n",
      "Shape of marital-status  (891, 1)\n",
      "Shape of age_group  (891, 1)\n"
     ]
    },
    {
     "ename": "ValueError",
     "evalue": "all the input array dimensions for the concatenation axis must match exactly, but along dimension 0, the array at index 0 has size 891 and the array at index 1 has size 1",
     "output_type": "error",
     "traceback": [
      "\u001b[0;31m---------------------------------------------------------------------------\u001b[0m",
      "\u001b[0;31mValueError\u001b[0m                                Traceback (most recent call last)",
      "Input \u001b[0;32mIn [338]\u001b[0m, in \u001b[0;36m<cell line: 1>\u001b[0;34m()\u001b[0m\n\u001b[0;32m----> 1\u001b[0m datav1 \u001b[38;5;241m=\u001b[39m \u001b[43mct\u001b[49m\u001b[38;5;241;43m.\u001b[39;49m\u001b[43mfit_transform\u001b[49m\u001b[43m(\u001b[49m\u001b[43mX_im\u001b[49m\u001b[43m)\u001b[49m\n",
      "File \u001b[0;32m~/.local/lib/python3.10/site-packages/sklearn/compose/_column_transformer.py:699\u001b[0m, in \u001b[0;36mColumnTransformer.fit_transform\u001b[0;34m(self, X, y)\u001b[0m\n\u001b[1;32m    696\u001b[0m \u001b[38;5;28mself\u001b[39m\u001b[38;5;241m.\u001b[39m_validate_output(Xs)\n\u001b[1;32m    697\u001b[0m \u001b[38;5;28mself\u001b[39m\u001b[38;5;241m.\u001b[39m_record_output_indices(Xs)\n\u001b[0;32m--> 699\u001b[0m \u001b[38;5;28;01mreturn\u001b[39;00m \u001b[38;5;28;43mself\u001b[39;49m\u001b[38;5;241;43m.\u001b[39;49m\u001b[43m_hstack\u001b[49m\u001b[43m(\u001b[49m\u001b[38;5;28;43mlist\u001b[39;49m\u001b[43m(\u001b[49m\u001b[43mXs\u001b[49m\u001b[43m)\u001b[49m\u001b[43m)\u001b[49m\n",
      "File \u001b[0;32m~/.local/lib/python3.10/site-packages/sklearn/compose/_column_transformer.py:791\u001b[0m, in \u001b[0;36mColumnTransformer._hstack\u001b[0;34m(self, Xs)\u001b[0m\n\u001b[1;32m    789\u001b[0m \u001b[38;5;28;01melse\u001b[39;00m:\n\u001b[1;32m    790\u001b[0m     Xs \u001b[38;5;241m=\u001b[39m [f\u001b[38;5;241m.\u001b[39mtoarray() \u001b[38;5;28;01mif\u001b[39;00m sparse\u001b[38;5;241m.\u001b[39missparse(f) \u001b[38;5;28;01melse\u001b[39;00m f \u001b[38;5;28;01mfor\u001b[39;00m f \u001b[38;5;129;01min\u001b[39;00m Xs]\n\u001b[0;32m--> 791\u001b[0m     \u001b[38;5;28;01mreturn\u001b[39;00m \u001b[43mnp\u001b[49m\u001b[38;5;241;43m.\u001b[39;49m\u001b[43mhstack\u001b[49m\u001b[43m(\u001b[49m\u001b[43mXs\u001b[49m\u001b[43m)\u001b[49m\n",
      "File \u001b[0;32m<__array_function__ internals>:180\u001b[0m, in \u001b[0;36mhstack\u001b[0;34m(*args, **kwargs)\u001b[0m\n",
      "File \u001b[0;32m~/.local/lib/python3.10/site-packages/numpy/core/shape_base.py:345\u001b[0m, in \u001b[0;36mhstack\u001b[0;34m(tup)\u001b[0m\n\u001b[1;32m    343\u001b[0m     \u001b[38;5;28;01mreturn\u001b[39;00m _nx\u001b[38;5;241m.\u001b[39mconcatenate(arrs, \u001b[38;5;241m0\u001b[39m)\n\u001b[1;32m    344\u001b[0m \u001b[38;5;28;01melse\u001b[39;00m:\n\u001b[0;32m--> 345\u001b[0m     \u001b[38;5;28;01mreturn\u001b[39;00m \u001b[43m_nx\u001b[49m\u001b[38;5;241;43m.\u001b[39;49m\u001b[43mconcatenate\u001b[49m\u001b[43m(\u001b[49m\u001b[43marrs\u001b[49m\u001b[43m,\u001b[49m\u001b[43m \u001b[49m\u001b[38;5;241;43m1\u001b[39;49m\u001b[43m)\u001b[49m\n",
      "File \u001b[0;32m<__array_function__ internals>:180\u001b[0m, in \u001b[0;36mconcatenate\u001b[0;34m(*args, **kwargs)\u001b[0m\n",
      "\u001b[0;31mValueError\u001b[0m: all the input array dimensions for the concatenation axis must match exactly, but along dimension 0, the array at index 0 has size 891 and the array at index 1 has size 1"
     ]
    }
   ],
   "source": [
    "datav1 = ct.fit_transform(X_im)\n"
   ]
  }
 ],
 "metadata": {
  "kernelspec": {
   "display_name": "Python 3 (ipykernel)",
   "language": "python",
   "name": "python3"
  },
  "language_info": {
   "codemirror_mode": {
    "name": "ipython",
    "version": 3
   },
   "file_extension": ".py",
   "mimetype": "text/x-python",
   "name": "python",
   "nbconvert_exporter": "python",
   "pygments_lexer": "ipython3",
   "version": "3.10.2"
  }
 },
 "nbformat": 4,
 "nbformat_minor": 5
}
